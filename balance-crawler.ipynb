{
 "cells": [
  {
   "cell_type": "code",
   "execution_count": 1,
   "id": "robust-original",
   "metadata": {},
   "outputs": [
    {
     "data": {
      "text/plain": [
       "True"
      ]
     },
     "execution_count": 1,
     "metadata": {},
     "output_type": "execute_result"
    }
   ],
   "source": [
    "from selenium import webdriver\n",
    "from selenium.webdriver.common.keys import Keys\n",
    "from selenium.webdriver.common.by import By\n",
    "from dotenv import load_dotenv\n",
    "import os \n",
    "\n",
    "import time\n",
    "import datetime\n",
    "import re\n",
    "import json\n",
    "load_dotenv()"
   ]
  },
  {
   "cell_type": "code",
   "execution_count": 2,
   "id": "postal-denmark",
   "metadata": {},
   "outputs": [
    {
     "name": "stderr",
     "output_type": "stream",
     "text": [
      "/var/folders/j8/83tq6nlx5sgfghk9b3dkd7b00000gn/T/ipykernel_90050/1949215442.py:1: DeprecationWarning: executable_path has been deprecated, please pass in a Service object\n",
      "  driver = webdriver.Chrome(executable_path=\"./chromedriver\")\n"
     ]
    }
   ],
   "source": [
    "driver = webdriver.Chrome(executable_path=\"./chromedriver\")\n",
    "driver.get(\"http://balance.nemolab.co.kr:8080/login\")\n",
    "time.sleep(2)"
   ]
  },
  {
   "cell_type": "code",
   "execution_count": 3,
   "id": "5253965c-e16e-4cac-8cf9-4dad3a14c6be",
   "metadata": {},
   "outputs": [],
   "source": [
    "# 로그인을 실행\n",
    "login_box = driver.find_element(By.ID, \"id\")\n",
    "password_box = driver.find_element(By.ID, \"password\")\n",
    "\n",
    "webdriver.ActionChains(driver).send_keys_to_element(login_box, os.environ.get('ID')).send_keys(Keys.TAB).perform()\n",
    "webdriver.ActionChains(driver).send_keys_to_element(password_box, os.environ.get('PASSWORD')).send_keys(Keys.ENTER).perform()"
   ]
  },
  {
   "cell_type": "code",
   "execution_count": 4,
   "id": "38d96d34-f8f3-4291-bf81-85e20c98b633",
   "metadata": {},
   "outputs": [],
   "source": [
    "#크롤러를 통해 자료 저장\n",
    "rows = driver.find_elements(By.CSS_SELECTOR, \"body > div > div > div:nth-child(2) > div > div > div.panel-body > form > div > table > tbody > tr\")\n",
    "\n",
    "clients = []\n",
    "    \n",
    "for i in range(0, len(rows)-1):\n",
    "\n",
    "    a_1 = rows[i].find_element(By.CSS_SELECTOR, \"td:nth-child(1)\").text\n",
    "    b_2 = rows[i].find_element(By.CSS_SELECTOR, \"td:nth-child(2)\").text\n",
    "    \n",
    "    clients.append({\n",
    "    \"no\": i+1,\n",
    "    \"client\": a_1,\n",
    "    \"accessNo\": b_2\n",
    "    })\n",
    "\n",
    "with open(\"./clients.json\", 'w', encoding='UTF-8-sig') as file:\n",
    "     file.write(json.dumps(clients, ensure_ascii=False))"
   ]
  },
  {
   "cell_type": "code",
   "execution_count": null,
   "id": "dbd24135-d376-4e46-af11-d465082cdfc8",
   "metadata": {},
   "outputs": [
    {
     "data": {
      "application/vnd.jupyter.widget-view+json": {
       "model_id": "cac7aece85d24e9792b743ca9fcec91a",
       "version_major": 2,
       "version_minor": 0
      },
      "text/plain": [
       "IntProgress(value=0, max=110)"
      ]
     },
     "metadata": {},
     "output_type": "display_data"
    }
   ],
   "source": [
    "from ipywidgets import IntProgress\n",
    "from IPython.display import display\n",
    "progress_bar = IntProgress(min=0, max=110)\n",
    "display(progress_bar)  \n",
    "\n",
    "balances = []\n",
    "\n",
    "for i in range(1, len(rows)-1):\n",
    "\n",
    "    driver.find_element(By.CSS_SELECTOR, \"body > div > div > div:nth-child(2) > div > div > div.panel-body > form > div > table > tbody > tr:nth-child(\" + str(i) + \") > td:nth-child(1)\").click()\n",
    "    time.sleep(2)\n",
    "    \n",
    "    rows = driver.find_elements(By.CSS_SELECTOR, \"body > div > div > div:nth-child(2) > div > div > div.panel-body > div.table-responsive > form > table > tbody > tr\")\n",
    "    \n",
    "    for e in rows : \n",
    "        try : \n",
    "            a = e.find_element(By.CSS_SELECTOR, \"td:nth-child(1)\").text\n",
    "            date = datetime.datetime.strptime(a,'%y.%m.%d').strftime('%Y-%m-%d')\n",
    "            b = e.find_element(By.CSS_SELECTOR, \"td:nth-child(2)\").text\n",
    "            c = e.find_element(By.CSS_SELECTOR, \"td:nth-child(3)\").text\n",
    "            d = int(re.sub(r\"[^0-9]\", \"\", e.find_element(By.CSS_SELECTOR, \"td:nth-child(4)\").text))-int(re.sub(r\"[^0-9]\", \"\", e.find_element(By.CSS_SELECTOR, \"td:nth-child(5)\").text))\n",
    "\n",
    "            balances.append({'date':date, 'content':b, 'in_charge':c, 'amount':d, 'clientId':i})\n",
    "            \n",
    "        except :\n",
    "            time.sleep(1)\n",
    "            \n",
    "    progress_bar.value = i\n",
    "    \n",
    "    driver.back()\n",
    "    time.sleep(2)\n",
    "    \n",
    "with open(\"./balances.json\", 'w', encoding='UTF-8-sig') as file:\n",
    "     file.write(json.dumps(balances, ensure_ascii=False))"
   ]
  },
  {
   "cell_type": "code",
   "execution_count": null,
   "id": "7321b92f-d544-447c-8d5c-bf0ab4bd66b7",
   "metadata": {},
   "outputs": [],
   "source": []
  }
 ],
 "metadata": {
  "kernelspec": {
   "display_name": "Python 3 (ipykernel)",
   "language": "python",
   "name": "python3"
  },
  "language_info": {
   "codemirror_mode": {
    "name": "ipython",
    "version": 3
   },
   "file_extension": ".py",
   "mimetype": "text/x-python",
   "name": "python",
   "nbconvert_exporter": "python",
   "pygments_lexer": "ipython3",
   "version": "3.9.13"
  }
 },
 "nbformat": 4,
 "nbformat_minor": 5
}
